{
 "cells": [
  {
   "cell_type": "markdown",
   "metadata": {},
   "source": [
    "## Draft Kings Fantasy Function\n",
    "\n",
    "### Point: +1 PT\n",
    "### Made 3pt. shot: +0.5 PTs\n",
    "### Rebound: +1.25 PTs\n",
    "### Assist: +1.5 PTs\n",
    "### Steal: +2 PTs\n",
    "### Block: +2 PTs\n",
    "### Turnover: -0.5 PTs\n",
    "### Double-Double: +1.5PTs (Max 1 per player: Points, Rebounds, Assists, Blocks, Steals)\n"
   ]
  },
  {
   "cell_type": "code",
   "execution_count": 11,
   "metadata": {},
   "outputs": [],
   "source": [
    "def calculate_total_fantasy_points(lineup):\n",
    "    # total fantasy points for a lineup on DraftKings NBA Fantasy Draft\n",
    "    \n",
    "    total_points = 0\n",
    "    \n",
    "    for player in lineup:\n",
    "        points = player['points']\n",
    "        made_three_pt = player['made_three_pt']\n",
    "        rebounds = player['rebounds']\n",
    "        assists = player['assists']\n",
    "        steals = player['steals']\n",
    "        blocks = player['blocks']\n",
    "        turnovers = player['turnovers']\n",
    "        double_double = player['double_double']\n",
    "        \n",
    "        total_points += points\n",
    "        total_points += made_three_pt * 0.5\n",
    "        total_points += rebounds * 1.25\n",
    "        total_points += assists * 1.5\n",
    "        total_points += steals * 2\n",
    "        total_points += blocks * 2\n",
    "        total_points -= turnovers * 0.5\n",
    "        if double_double:\n",
    "            total_points += 1.5\n",
    "    \n",
    "    return total_points"
   ]
  },
  {
   "cell_type": "code",
   "execution_count": null,
   "metadata": {},
   "outputs": [],
   "source": []
  }
 ],
 "metadata": {
  "kernelspec": {
   "display_name": "Python 3.7.9 64-bit ('myenv': conda)",
   "language": "python",
   "name": "python379jvsc74a57bd0c931c2a2eabe824a2ad8b66085f9b6e0dc926dba1c4372aaa23012a0d75b7f9a"
  },
  "language_info": {
   "codemirror_mode": {
    "name": "ipython",
    "version": 3
   },
   "file_extension": ".py",
   "mimetype": "text/x-python",
   "name": "python",
   "nbconvert_exporter": "python",
   "pygments_lexer": "ipython3",
   "version": "3.7.9"
  }
 },
 "nbformat": 4,
 "nbformat_minor": 4
}

{
 "cells": [
  {
   "cell_type": "markdown",
   "metadata": {},
   "source": [
    "Linear Programming (LP)\n",
    "Random Forest (RF)\n",
    "Deep Neural Networks (DNN)\n",
    "LSTM\n"
   ]
  },
  {
   "cell_type": "markdown",
   "metadata": {},
   "source": [
    "Linear Programming (LP):\n",
    "Linear Programming is a mathematical optimization technique used to maximize or minimize a linear objective function, subject to a set of linear constraints. In the context of NBA fantasy drafting, LP can be used to maximize the total points scored by a lineup, subject to constraints such as salary caps, player positions, and team exposure limits.\n",
    "\n",
    "Pros:\n",
    "- LP is a well-established optimization technique that is relatively easy to implement.\n",
    "- LP can handle large datasets and complex constraints.\n",
    "- LP guarantees an optimal solution (assuming no errors in the input data).\n",
    "Cons:\n",
    "- LP assumes that the objective function and constraints are linear, which may not be true in all cases.\n",
    "- LP may not always provide a feasible solution if the constraints are too strict or conflicting."
   ]
  },
  {
   "cell_type": "code",
   "execution_count": null,
   "metadata": {},
   "outputs": [],
   "source": [
    "from pulp import *\n",
    "\n",
    "# Define the problem\n",
    "prob = LpProblem(\"NBA lineup optimization\", LpMaximize)\n",
    "\n",
    "# Define the decision variables\n",
    "players = LpVariable.dicts(\"Players\", df.index, cat='Binary')\n",
    "\n",
    "# Define the objective function\n",
    "prob += lpSum([df.loc[i, 'Projected Points'] * players[i] for i in df.index])\n",
    "\n",
    "# Define the constraints\n",
    "prob += lpSum([players[i] for i in df.index]) == 8\n",
    "prob += lpSum([players[i] * df.loc[i, 'Salary'] for i in df.index]) <= 50000\n",
    "prob += lpSum([players[i] for i in df.index if df.loc[i, 'Position'] == 'PG']) == 1\n",
    "prob += lpSum([players[i] for i in df.index if df.loc[i, 'Team'] == 'LAL']) <= 3\n",
    "\n",
    "# Solve the problem\n",
    "prob.solve()\n",
    "\n",
    "# Print the optimal lineup\n",
    "for i in df.index:\n",
    "    if players[i].value() == 1:\n",
    "        print(df.loc[i, 'Player Name'], df.loc[i, 'Projected Points'])\n"
   ]
  },
  {
   "cell_type": "markdown",
   "metadata": {},
   "source": [
    "Random Forest (RF):\n",
    "Random Forest is an ensemble learning technique that combines multiple decision trees to make predictions. In the context of NBA fantasy drafting, RF can be used to predict the projected points for each player, based on features such as historical performance, opponent strength, and team dynamics.\n",
    "\n",
    "Pros:\n",
    "- RF is a powerful machine learning algorithm that can handle non-linear relationships between features and the target variable.\n",
    "- RF can handle missing values and categorical variables.\n",
    "- RF can provide feature importance rankings, which can help identify the most relevant features for the task at hand.\n",
    "Cons:\n",
    "- RF can be computationally expensive for large datasets and complex feature sets.\n",
    "- RF may suffer from overfitting if the number of trees or the depth of the trees is too high.\n",
    "\n"
   ]
  },
  {
   "cell_type": "code",
   "execution_count": null,
   "metadata": {},
   "outputs": [],
   "source": [
    "from sklearn.ensemble import RandomForestRegressor\n",
    "from sklearn.model_selection import train_test_split\n",
    "\n",
    "# Split the data into training and test sets\n",
    "X_train, X_test, y_train, y_test = train_test_split(X, y, test_size=0.2, random_state=42)\n",
    "\n",
    "# Define the model\n",
    "rf = RandomForestRegressor(n_estimators=100, max_depth=10, random_state=42)\n",
    "\n",
    "# Fit the model\n",
    "rf.fit(X_train, y_train)\n",
    "\n",
    "# Predict the test set\n",
    "y_pred = rf.predict(X\n"
   ]
  },
  {
   "cell_type": "markdown",
   "metadata": {},
   "source": [
    "Deep Neural Networks (DNN):\n",
    "Deep Neural Networks are a type of artificial neural network with multiple hidden layers. In the context of NBA fantasy drafting, DNN can be used to predict the projected points for each player, based on features such as historical performance, opponent strength, and team dynamics.\n",
    "\n",
    "Pros:\n",
    "- DNN can handle non-linear relationships between features and the target variable.\n",
    "- DNN can handle missing values and categorical variables.\n",
    "- DNN can learn complex patterns in the data, which can lead to better predictions.\n",
    "- DNN can be fine-tuned using techniques such as regularization, dropout, and batch normalization, which can improve its performance.\n",
    "Cons:\n",
    "- DNN can be computationally expensive for large datasets and complex feature sets.\n",
    "- DNN may require a large amount of data to avoid overfitting.\n",
    "- DNN can be difficult to train and interpret.\n",
    "\n"
   ]
  },
  {
   "cell_type": "code",
   "execution_count": null,
   "metadata": {},
   "outputs": [],
   "source": [
    "from tensorflow import keras\n",
    "from sklearn.model_selection import train_test_split\n",
    "\n",
    "# Split the data into training and test sets\n",
    "X_train, X_test, y_train, y_test = train_test_split(X, y, test_size=0.2, random_state=42)\n",
    "\n",
    "# Define the model\n",
    "model = keras.Sequential([\n",
    "    keras.layers.Dense(128, activation='relu', input_shape=(X_train.shape[1],)),\n",
    "    keras.layers.Dropout(0.2),\n",
    "    keras.layers.Dense(64, activation='relu'),\n",
    "    keras.layers.Dropout(0.2),\n",
    "    keras.layers.Dense(1)\n",
    "])\n",
    "\n",
    "# Compile the model\n",
    "model.compile(loss='mean_squared_error', optimizer='adam')\n",
    "\n",
    "# Fit the model\n",
    "history = model.fit(X_train, y_train, epochs=100, validation_split=0.2)\n",
    "\n",
    "# Predict the test set\n",
    "y_pred = model.predict(X_test)\n"
   ]
  },
  {
   "cell_type": "markdown",
   "metadata": {},
   "source": [
    "Long Short-Term Memory (LSTM):\n",
    "Long Short-Term Memory is a type of recurrent neural network that is capable of handling sequential data, such as time-series or text data. In the context of NBA fantasy drafting, LSTM can be used to predict the projected points for each player, based on their past performances and other factors that may affect their future performance.\n",
    "\n",
    "Pros:\n",
    "\n",
    "- LSTM can handle sequential data and capture temporal dependencies in the data.\n",
    "- LSTM can learn complex patterns in the data, which can lead to better predictions.\n",
    "- LSTM can be fine-tuned using techniques such as regularization, dropout, and batch normalization, which can improve its performance.\n",
    "Cons:\n",
    "\n",
    "- LSTM can be computationally expensive for large datasets and complex feature sets.\n",
    "- LSTM may require a large amount of data to avoid overfitting.\n",
    "- LSTM can be difficult to train and interpret."
   ]
  },
  {
   "cell_type": "code",
   "execution_count": null,
   "metadata": {},
   "outputs": [],
   "source": [
    "from tensorflow import keras\n",
    "from sklearn.model_selection import train_test_split\n",
    "from keras.layers import LSTM, Dense\n",
    "\n",
    "# Reshape the input data to 3D tensor\n",
    "X = X.reshape((X.shape[0], 1, X.shape[1]))\n",
    "\n",
    "# Split the data into training and test sets\n",
    "X_train, X_test, y_train, y_test = train_test_split(X, y, test_size=0.2, random_state=42)\n",
    "\n",
    "# Define the model\n",
    "model = keras.Sequential([\n",
    "    LSTM(64, activation='relu', input_shape=(1, X_train.shape[2])),\n",
    "    Dense(1)\n",
    "])\n",
    "\n",
    "# Compile the model\n",
    "model.compile(loss='mean_squared_error', optimizer='adam')\n",
    "\n",
    "# Fit the model\n",
    "history = model.fit(X_train, y_train, epochs=100, validation_split=0.2)\n",
    "\n",
    "# Predict the test set\n",
    "y_pred = model.predict(X_test)\n"
   ]
  }
 ],
 "metadata": {
  "kernelspec": {
   "display_name": "Python 3.7.9 64-bit ('myenv': conda)",
   "language": "python",
   "name": "python379jvsc74a57bd0c931c2a2eabe824a2ad8b66085f9b6e0dc926dba1c4372aaa23012a0d75b7f9a"
  },
  "language_info": {
   "codemirror_mode": {
    "name": "ipython",
    "version": 3
   },
   "file_extension": ".py",
   "mimetype": "text/x-python",
   "name": "python",
   "nbconvert_exporter": "python",
   "pygments_lexer": "ipython3",
   "version": "3.7.9"
  }
 },
 "nbformat": 4,
 "nbformat_minor": 4
}
